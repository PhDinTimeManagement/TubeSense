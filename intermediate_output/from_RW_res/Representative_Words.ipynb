{
 "cells": [
  {
   "metadata": {},
   "cell_type": "markdown",
   "source": "# Representative Words",
   "id": "a67341f1f8948b42"
  },
  {
   "metadata": {},
   "cell_type": "markdown",
   "source": "## Setup",
   "id": "755ec0a1219874bf"
  },
  {
   "metadata": {
    "ExecuteTime": {
     "end_time": "2025-05-22T06:15:06.466740Z",
     "start_time": "2025-05-22T06:15:06.168098Z"
    }
   },
   "cell_type": "code",
   "source": "import pandas as pd",
   "id": "c312c886a35f3923",
   "outputs": [],
   "execution_count": 1
  },
  {
   "metadata": {},
   "cell_type": "markdown",
   "source": "## Read the complete words ranking file",
   "id": "d60f331c5081e631"
  },
  {
   "cell_type": "code",
   "id": "initial_id",
   "metadata": {
    "collapsed": true,
    "ExecuteTime": {
     "end_time": "2025-05-22T06:15:06.491131Z",
     "start_time": "2025-05-22T06:15:06.486855Z"
    }
   },
   "source": "df = pd.read_csv('../../exploratory_data_analytics/representative_words/RW_res/complete_words_ranking.csv')",
   "outputs": [],
   "execution_count": 2
  },
  {
   "metadata": {},
   "cell_type": "markdown",
   "source": "## Output the top 50 representative words",
   "id": "868dc8932bc55ce3"
  },
  {
   "metadata": {
    "ExecuteTime": {
     "end_time": "2025-05-22T06:15:06.572806Z",
     "start_time": "2025-05-22T06:15:06.570097Z"
    }
   },
   "cell_type": "code",
   "source": [
    "top50_df = df[:50]\n",
    "output_path_for_representative_words = 'representative_words.csv'\n",
    "top50_df.to_csv(output_path_for_representative_words, index=False)"
   ],
   "id": "320954eb27074a0d",
   "outputs": [],
   "execution_count": 3
  },
  {
   "metadata": {
    "ExecuteTime": {
     "end_time": "2025-05-22T06:15:06.587010Z",
     "start_time": "2025-05-22T06:15:06.581576Z"
    }
   },
   "cell_type": "code",
   "source": "",
   "id": "d8c5627bbf950426",
   "outputs": [],
   "execution_count": null
  }
 ],
 "metadata": {
  "kernelspec": {
   "display_name": "Python 3",
   "language": "python",
   "name": "python3"
  },
  "language_info": {
   "codemirror_mode": {
    "name": "ipython",
    "version": 2
   },
   "file_extension": ".py",
   "mimetype": "text/x-python",
   "name": "python",
   "nbconvert_exporter": "python",
   "pygments_lexer": "ipython2",
   "version": "2.7.6"
  }
 },
 "nbformat": 4,
 "nbformat_minor": 5
}
