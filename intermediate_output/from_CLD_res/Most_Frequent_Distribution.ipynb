{
 "cells": [
  {
   "metadata": {},
   "cell_type": "markdown",
   "source": "# Most Frequent Distribution",
   "id": "442b79fcf6094f24"
  },
  {
   "metadata": {},
   "cell_type": "markdown",
   "source": "## Setup",
   "id": "cb30bfa3c1f68fa7"
  },
  {
   "metadata": {
    "ExecuteTime": {
     "end_time": "2025-05-22T05:56:15.056920Z",
     "start_time": "2025-05-22T05:56:14.757087Z"
    }
   },
   "cell_type": "code",
   "source": "import pandas as pd",
   "id": "735b53088782e9",
   "outputs": [],
   "execution_count": 1
  },
  {
   "metadata": {},
   "cell_type": "markdown",
   "source": "## Data Analysis",
   "id": "952ca903cea80bed"
  },
  {
   "cell_type": "code",
   "id": "initial_id",
   "metadata": {
    "collapsed": true,
    "ExecuteTime": {
     "end_time": "2025-05-22T05:56:15.676779Z",
     "start_time": "2025-05-22T05:56:15.635470Z"
    }
   },
   "source": [
    "df = pd.read_csv('../../data_preprocessed/comments_cleaned.csv')\n",
    "df['length'] = df['comment'].astype(str).apply(lambda x: len(x.split()))\n",
    "\n",
    "# Find the single most common length\n",
    "mode_length = df['length'].mode().iloc[0]\n",
    "print(f\"The most common comment length is {mode_length} words.\")\n",
    "\n",
    "# Compute frequencies for each-word count\n",
    "freq_1 = (df['length'] == 1).sum()\n",
    "freq_2 = (df['length'] == 2).sum()\n",
    "freq_3 = (df['length'] == 3).sum()\n",
    "freq_4 = (df['length'] == 4).sum()\n",
    "freq_5 = (df['length'] == 5).sum()\n",
    "freq_6 = (df['length'] == 6).sum()\n",
    "freq_7 = (df['length'] == 7).sum()\n",
    "freq_8 = (df['length'] == 8).sum()\n",
    "freq_9 = (df['length'] == 9).sum()\n",
    "\n",
    "print(f\"Frequency of 1-word comments: {freq_1}\")\n",
    "print(f\"Frequency of 2-word comments: {freq_2}\")\n",
    "print(f\"Frequency of 3-word comments: {freq_3}\")\n",
    "print(f\"Frequency of 4-word comments: {freq_4}\")\n",
    "print(f\"Frequency of 5-word comments: {freq_5}\")\n",
    "print(f\"Frequency of 6-word comments: {freq_6}\")\n",
    "print(f\"Frequency of 7-word comments: {freq_7}\")\n",
    "print(f\"Frequency of 8-word comments: {freq_8}\")\n",
    "print(f\"Frequency of 9-word comments: {freq_9}\")"
   ],
   "outputs": [
    {
     "name": "stdout",
     "output_type": "stream",
     "text": [
      "The most common comment length is 3 words.\n",
      "Frequency of 1-word comments: 1479\n",
      "Frequency of 2-word comments: 2408\n",
      "Frequency of 3-word comments: 3874\n",
      "Frequency of 4-word comments: 3470\n",
      "Frequency of 5-word comments: 3176\n",
      "Frequency of 6-word comments: 2544\n",
      "Frequency of 7-word comments: 1989\n",
      "Frequency of 8-word comments: 1523\n",
      "Frequency of 9-word comments: 1213\n"
     ]
    }
   ],
   "execution_count": 2
  },
  {
   "metadata": {},
   "cell_type": "code",
   "outputs": [],
   "execution_count": null,
   "source": "",
   "id": "49e457526f17066f"
  }
 ],
 "metadata": {
  "kernelspec": {
   "display_name": "Python 3",
   "language": "python",
   "name": "python3"
  },
  "language_info": {
   "codemirror_mode": {
    "name": "ipython",
    "version": 2
   },
   "file_extension": ".py",
   "mimetype": "text/x-python",
   "name": "python",
   "nbconvert_exporter": "python",
   "pygments_lexer": "ipython2",
   "version": "2.7.6"
  }
 },
 "nbformat": 4,
 "nbformat_minor": 5
}
