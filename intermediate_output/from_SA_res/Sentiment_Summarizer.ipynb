{
 "cells": [
  {
   "metadata": {},
   "cell_type": "markdown",
   "source": "# Sentiment Summarizer",
   "id": "fffe29f74efd9bf7"
  },
  {
   "metadata": {},
   "cell_type": "markdown",
   "source": [
    "In the nlptown BERT sentiment model, the labels “1 star” through “5 stars” correspond to a 5-point sentiment scale\n",
    "|   ⭐ Rating  | Interpretation  |\n",
    "| :---------: | :-------------- |\n",
    "|  **1 star** | Very Negative   |\n",
    "| **2 stars** | Negative        |\n",
    "| **3 stars** | Neutral / Mixed |\n",
    "| **4 stars** | Positive        |\n",
    "| **5 stars** | Very Positive   |"
   ],
   "id": "5d221d9d077c128"
  },
  {
   "cell_type": "code",
   "execution_count": null,
   "id": "initial_id",
   "metadata": {
    "collapsed": true
   },
   "outputs": [],
   "source": [
    ""
   ]
  }
 ],
 "metadata": {
  "kernelspec": {
   "display_name": "Python 3",
   "language": "python",
   "name": "python3"
  },
  "language_info": {
   "codemirror_mode": {
    "name": "ipython",
    "version": 2
   },
   "file_extension": ".py",
   "mimetype": "text/x-python",
   "name": "python",
   "nbconvert_exporter": "python",
   "pygments_lexer": "ipython2",
   "version": "2.7.6"
  }
 },
 "nbformat": 4,
 "nbformat_minor": 5
}
