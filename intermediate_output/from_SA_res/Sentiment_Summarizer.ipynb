{
 "cells": [
  {
   "metadata": {},
   "cell_type": "markdown",
   "source": "# Sentiment Summarizer",
   "id": "fffe29f74efd9bf7"
  },
  {
   "metadata": {},
   "cell_type": "markdown",
   "source": [
    "In the nlptown BERT sentiment model, the labels “1 star” through “5 stars” correspond to a 5-point sentiment scale\n",
    "|   ⭐ Rating  | Interpretation  |\n",
    "| :---------: | :-------------- |\n",
    "|  **1 star** | Very Negative   |\n",
    "| **2 stars** | Negative        |\n",
    "| **3 stars** | Neutral / Mixed |\n",
    "| **4 stars** | Positive        |\n",
    "| **5 stars** | Very Positive   |"
   ],
   "id": "5d221d9d077c128"
  },
  {
   "metadata": {},
   "cell_type": "markdown",
   "source": "## Setup",
   "id": "333d3ebe1c021b1"
  },
  {
   "metadata": {
    "ExecuteTime": {
     "end_time": "2025-05-22T06:30:07.244117Z",
     "start_time": "2025-05-22T06:30:06.930337Z"
    }
   },
   "cell_type": "code",
   "source": [
    "import pandas as pd\n",
    "import math"
   ],
   "id": "ba2f7c2438615247",
   "outputs": [],
   "execution_count": 1
  },
  {
   "metadata": {},
   "cell_type": "markdown",
   "source": "## Load the CSV with Comments and Sentiment Labels",
   "id": "f505fb12d0dcd722"
  },
  {
   "cell_type": "code",
   "id": "initial_id",
   "metadata": {
    "collapsed": true,
    "ExecuteTime": {
     "end_time": "2025-05-22T06:30:07.272150Z",
     "start_time": "2025-05-22T06:30:07.246574Z"
    }
   },
   "source": [
    "df = pd.read_csv('../../exploratory_data_analytics/sentiment_analysis/SA_res/comments_with_sentiment.csv')  \n",
    "df['star'] = df['sentiment'].str.extract(r'^(\\d)').astype(int)"
   ],
   "outputs": [],
   "execution_count": 2
  },
  {
   "metadata": {},
   "cell_type": "markdown",
   "source": "## Compute the Average Score",
   "id": "5e416e11ab4171d0"
  },
  {
   "metadata": {
    "ExecuteTime": {
     "end_time": "2025-05-22T06:30:07.350133Z",
     "start_time": "2025-05-22T06:30:07.347886Z"
    }
   },
   "cell_type": "code",
   "source": [
    "avg_score = df['star'].mean()\n",
    "print(f\"Average star rating: {avg_score:.2f}\")\n",
    "\n",
    "rounded = int(math.floor(avg_score + 0.5))\n",
    "print(f\"Rounded to nearest star: {rounded}\")"
   ],
   "id": "5bbf42fc9a975d59",
   "outputs": [
    {
     "name": "stdout",
     "output_type": "stream",
     "text": [
      "Average star rating: 3.74\n",
      "Rounded to nearest star: 4\n"
     ]
    }
   ],
   "execution_count": 3
  },
  {
   "metadata": {},
   "cell_type": "markdown",
   "source": "## Map Integer Rating to Qualitative Category",
   "id": "4ee85a1ac3f2fc14"
  },
  {
   "metadata": {
    "ExecuteTime": {
     "end_time": "2025-05-22T06:30:07.408687Z",
     "start_time": "2025-05-22T06:30:07.406538Z"
    }
   },
   "cell_type": "code",
   "source": [
    "category_map = {\n",
    "    1: \"Very Negative\",\n",
    "    2: \"Negative\",\n",
    "    3: \"Neutral\",\n",
    "    4: \"Positive\",\n",
    "    5: \"Very Positive\"\n",
    "}\n",
    "overall_category = category_map.get(rounded, \"Unknown\")\n",
    "print(f\"Overall sentiment category: {overall_category}\")"
   ],
   "id": "c4391a53e2ca9684",
   "outputs": [
    {
     "name": "stdout",
     "output_type": "stream",
     "text": [
      "Overall sentiment category: Positive\n"
     ]
    }
   ],
   "execution_count": 4
  }
 ],
 "metadata": {
  "kernelspec": {
   "display_name": "Python 3",
   "language": "python",
   "name": "python3"
  },
  "language_info": {
   "codemirror_mode": {
    "name": "ipython",
    "version": 2
   },
   "file_extension": ".py",
   "mimetype": "text/x-python",
   "name": "python",
   "nbconvert_exporter": "python",
   "pygments_lexer": "ipython2",
   "version": "2.7.6"
  }
 },
 "nbformat": 4,
 "nbformat_minor": 5
}
