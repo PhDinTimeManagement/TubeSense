{
 "cells": [
  {
   "metadata": {},
   "cell_type": "markdown",
   "source": "# Sentiment Analyzer",
   "id": "5ec044a9ae55b973"
  },
  {
   "metadata": {},
   "cell_type": "markdown",
   "source": [
    "In the nlptown BERT sentiment model, the labels “1 star” through “5 stars” correspond to a 5-point sentiment scale\n",
    "|   ⭐ Rating  | Interpretation  |\n",
    "| :---------: | :-------------- |\n",
    "|  **1 star** | Very Negative   |\n",
    "| **2 stars** | Negative        |\n",
    "| **3 stars** | Neutral / Mixed |\n",
    "| **4 stars** | Positive        |\n",
    "| **5 stars** | Very Positive   |\n"
   ],
   "id": "9b3f9438d3bec4ed"
  },
  {
   "metadata": {},
   "cell_type": "markdown",
   "source": "## Setup and Installation",
   "id": "6a93e19eb1239a33"
  },
  {
   "cell_type": "code",
   "id": "initial_id",
   "metadata": {
    "collapsed": true,
    "ExecuteTime": {
     "end_time": "2025-05-22T00:23:47.369194Z",
     "start_time": "2025-05-22T00:23:45.790430Z"
    }
   },
   "source": "%pip install transformers pandas -q",
   "outputs": [
    {
     "name": "stdout",
     "output_type": "stream",
     "text": [
      "\r\n",
      "\u001B[1m[\u001B[0m\u001B[34;49mnotice\u001B[0m\u001B[1;39;49m]\u001B[0m\u001B[39;49m A new release of pip is available: \u001B[0m\u001B[31;49m23.2.1\u001B[0m\u001B[39;49m -> \u001B[0m\u001B[32;49m25.1.1\u001B[0m\r\n",
      "\u001B[1m[\u001B[0m\u001B[34;49mnotice\u001B[0m\u001B[1;39;49m]\u001B[0m\u001B[39;49m To update, run: \u001B[0m\u001B[32;49mpip3.11 install --upgrade pip\u001B[0m\r\n",
      "Note: you may need to restart the kernel to use updated packages.\n"
     ]
    }
   ],
   "execution_count": 1
  },
  {
   "metadata": {
    "ExecuteTime": {
     "end_time": "2025-05-22T00:24:12.753488Z",
     "start_time": "2025-05-22T00:24:05.900256Z"
    }
   },
   "cell_type": "code",
   "source": [
    "from transformers import pipeline\n",
    "import pandas as pd"
   ],
   "id": "7649e2affaca5a43",
   "outputs": [
    {
     "name": "stderr",
     "output_type": "stream",
     "text": [
      "/Library/Frameworks/Python.framework/Versions/3.11/lib/python3.11/site-packages/tqdm/auto.py:21: TqdmWarning: IProgress not found. Please update jupyter and ipywidgets. See https://ipywidgets.readthedocs.io/en/stable/user_install.html\n",
      "  from .autonotebook import tqdm as notebook_tqdm\n"
     ]
    }
   ],
   "execution_count": 2
  },
  {
   "metadata": {},
   "cell_type": "markdown",
   "source": "## Loading the Cleaned Comments Dataset",
   "id": "7a2e0881757d0362"
  },
  {
   "metadata": {
    "ExecuteTime": {
     "end_time": "2025-05-22T00:24:30.797508Z",
     "start_time": "2025-05-22T00:24:30.778813Z"
    }
   },
   "cell_type": "code",
   "source": "df = pd.read_csv(\"../../data_preprocessed/comments_cleaned.csv\")",
   "id": "34cc470ee1497e7",
   "outputs": [],
   "execution_count": 4
  },
  {
   "metadata": {},
   "cell_type": "markdown",
   "source": "## Initializing the Sentiment Analysis Pipeline",
   "id": "f22e2e1161a71400"
  },
  {
   "metadata": {
    "ExecuteTime": {
     "end_time": "2025-05-22T00:24:48.263788Z",
     "start_time": "2025-05-22T00:24:34.558998Z"
    }
   },
   "cell_type": "code",
   "source": "classifier = pipeline(\"sentiment-analysis\", model=\"nlptown/bert-base-multilingual-uncased-sentiment\")",
   "id": "8e7f34470f3c2f1d",
   "outputs": [
    {
     "name": "stderr",
     "output_type": "stream",
     "text": [
      "Hardware accelerator e.g. GPU is available in the environment, but no `device` argument is passed to the `Pipeline` object. Model will be on CPU.\n"
     ]
    }
   ],
   "execution_count": 5
  },
  {
   "metadata": {},
   "cell_type": "markdown",
   "source": "## Analyzing Sentiment for Each Comment",
   "id": "574dbba0469145b3"
  },
  {
   "metadata": {
    "ExecuteTime": {
     "end_time": "2025-05-22T00:40:05.838734Z",
     "start_time": "2025-05-22T00:24:55.348738Z"
    }
   },
   "cell_type": "code",
   "source": [
    "# Ensure all entries are strings\n",
    "comments_list = df[\"comment\"].astype(str).tolist()\n",
    "\n",
    "# Get sentiment predictions for each comment\n",
    "predictions = classifier(comments_list)                     \n",
    "\n",
    "# Extract the sentiment labels from the predictions\n",
    "sentiment_labels = [pred[\"label\"] for pred in predictions]\n",
    "\n",
    "# Add the sentiment labels to the DataFrame\n",
    "df[\"sentiment\"] = sentiment_labels"
   ],
   "id": "de2135697049ea22",
   "outputs": [],
   "execution_count": 6
  },
  {
   "metadata": {},
   "cell_type": "markdown",
   "source": "## Saving the Results to CSV",
   "id": "1cafca9b4f3688ef"
  },
  {
   "metadata": {
    "ExecuteTime": {
     "end_time": "2025-05-22T00:41:09.453226Z",
     "start_time": "2025-05-22T00:41:09.425726Z"
    }
   },
   "cell_type": "code",
   "source": [
    "# Only comment and sentiment columns\n",
    "result_df = df[[\"comment\", \"sentiment\"]]\n",
    "result_df.to_csv(\"SA_res/comments_with_sentiment.csv\", index=False)"
   ],
   "id": "aac57254ae909e8e",
   "outputs": [],
   "execution_count": 8
  },
  {
   "metadata": {},
   "cell_type": "code",
   "outputs": [],
   "execution_count": null,
   "source": "",
   "id": "855163e254ad5701"
  }
 ],
 "metadata": {
  "kernelspec": {
   "display_name": "Python 3",
   "language": "python",
   "name": "python3"
  },
  "language_info": {
   "codemirror_mode": {
    "name": "ipython",
    "version": 2
   },
   "file_extension": ".py",
   "mimetype": "text/x-python",
   "name": "python",
   "nbconvert_exporter": "python",
   "pygments_lexer": "ipython2",
   "version": "2.7.6"
  }
 },
 "nbformat": 4,
 "nbformat_minor": 5
}
