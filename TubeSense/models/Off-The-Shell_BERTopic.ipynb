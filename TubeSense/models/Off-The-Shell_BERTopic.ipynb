{
 "cells": [
  {
   "metadata": {},
   "cell_type": "markdown",
   "source": "# Off-The-Shelf BERTopic Model",
   "id": "56461e7542f61e68"
  },
  {
   "metadata": {},
   "cell_type": "markdown",
   "source": "## Data Import",
   "id": "557ce29540445709"
  },
  {
   "cell_type": "code",
   "id": "initial_id",
   "metadata": {
    "collapsed": true
   },
   "source": [
    "import pandas as pd\n",
    "\n",
    "transcripts = pd.read_csv(\"transcripts.csv\")"
   ],
   "outputs": [],
   "execution_count": null
  },
  {
   "metadata": {},
   "cell_type": "markdown",
   "source": "## Train Model",
   "id": "fdde5c4062398368"
  },
  {
   "metadata": {},
   "cell_type": "code",
   "outputs": [],
   "execution_count": null,
   "source": [
    "from bertopic import BERTopic\n",
    "\n",
    "topic_model = BERTopic(language=\"english\", calculate_probabilities=True)\n",
    "topics, probs = topic_model.fit_transform(transcripts)\n",
    "\n",
    "topic_model = BERTopic.load(\"arxiv_bertopic\")"
   ],
   "id": "fd6383c5aae1d861"
  },
  {
   "metadata": {},
   "cell_type": "markdown",
   "source": "## View Topics ",
   "id": "92f1bdbe77e4f02d"
  },
  {
   "metadata": {},
   "cell_type": "code",
   "outputs": [],
   "execution_count": null,
   "source": "topic_model.get_topic_info()",
   "id": "faa8171974a0bc43"
  },
  {
   "metadata": {},
   "cell_type": "markdown",
   "source": "## Topic Labels",
   "id": "8ac442de74470841"
  },
  {
   "metadata": {},
   "cell_type": "code",
   "outputs": [],
   "execution_count": null,
   "source": "topic_labels = topic_model.generate_topic_labels()",
   "id": "7c5c1fa272479875"
  }
 ],
 "metadata": {
  "kernelspec": {
   "display_name": "Python 3",
   "language": "python",
   "name": "python3"
  },
  "language_info": {
   "codemirror_mode": {
    "name": "ipython",
    "version": 2
   },
   "file_extension": ".py",
   "mimetype": "text/x-python",
   "name": "python",
   "nbconvert_exporter": "python",
   "pygments_lexer": "ipython2",
   "version": "2.7.6"
  }
 },
 "nbformat": 4,
 "nbformat_minor": 5
}
