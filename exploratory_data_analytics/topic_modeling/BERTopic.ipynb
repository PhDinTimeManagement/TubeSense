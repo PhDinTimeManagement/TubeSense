{
 "cells": [
  {
   "metadata": {},
   "cell_type": "markdown",
   "source": "# BERTopic for Topic Modeling",
   "id": "4c6cd5133a0aaf73"
  },
  {
   "metadata": {},
   "cell_type": "markdown",
   "source": "## Loading the Transcript Data\n",
   "id": "23765aeaca1e48ec"
  },
  {
   "cell_type": "code",
   "id": "initial_id",
   "metadata": {
    "collapsed": true,
    "ExecuteTime": {
     "end_time": "2025-05-22T11:57:15.159973Z",
     "start_time": "2025-05-22T11:57:15.156734Z"
    }
   },
   "source": [
    "file_path = \"../../data_preprocessed/transcript_cleaned.txt\"\n",
    "with open(file_path, 'r', encoding='utf-8') as f:\n",
    "    text_data = f.read()\n",
    "\n",
    "print(f\"Loaded transcript text of length {len(text_data)} characters.\")"
   ],
   "outputs": [
    {
     "name": "stdout",
     "output_type": "stream",
     "text": [
      "Loaded transcript text of length 15164 characters.\n"
     ]
    }
   ],
   "execution_count": 3
  },
  {
   "metadata": {},
   "cell_type": "code",
   "outputs": [],
   "execution_count": null,
   "source": "",
   "id": "e1c21c060bfb0864"
  }
 ],
 "metadata": {
  "kernelspec": {
   "display_name": "Python 3",
   "language": "python",
   "name": "python3"
  },
  "language_info": {
   "codemirror_mode": {
    "name": "ipython",
    "version": 2
   },
   "file_extension": ".py",
   "mimetype": "text/x-python",
   "name": "python",
   "nbconvert_exporter": "python",
   "pygments_lexer": "ipython2",
   "version": "2.7.6"
  }
 },
 "nbformat": 4,
 "nbformat_minor": 5
}
