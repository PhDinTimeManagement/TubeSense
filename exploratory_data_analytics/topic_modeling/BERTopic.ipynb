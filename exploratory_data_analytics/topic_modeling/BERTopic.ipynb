{
 "cells": [
  {
   "metadata": {},
   "cell_type": "markdown",
   "source": "# BERTopic for Topic Modeling",
   "id": "4c6cd5133a0aaf73"
  },
  {
   "metadata": {},
   "cell_type": "markdown",
   "source": "## Setup and Installation for BERTopic",
   "id": "435a521d669ba25b"
  },
  {
   "metadata": {
    "ExecuteTime": {
     "end_time": "2025-05-22T14:14:51.601168Z",
     "start_time": "2025-05-22T14:14:45.708882Z"
    }
   },
   "cell_type": "code",
   "source": [
    "%pip install -q bertopic\n",
    "%pip install numpy==1.24.4 scipy==1.10.1 --quiet\n",
    "!python -m spacy download en_core_web_sm"
   ],
   "id": "c7143afa83781a5d",
   "outputs": [
    {
     "name": "stdout",
     "output_type": "stream",
     "text": [
      "\r\n",
      "\u001B[1m[\u001B[0m\u001B[34;49mnotice\u001B[0m\u001B[1;39;49m]\u001B[0m\u001B[39;49m A new release of pip is available: \u001B[0m\u001B[31;49m23.2.1\u001B[0m\u001B[39;49m -> \u001B[0m\u001B[32;49m25.1.1\u001B[0m\r\n",
      "\u001B[1m[\u001B[0m\u001B[34;49mnotice\u001B[0m\u001B[1;39;49m]\u001B[0m\u001B[39;49m To update, run: \u001B[0m\u001B[32;49mpip3.11 install --upgrade pip\u001B[0m\r\n",
      "Note: you may need to restart the kernel to use updated packages.\n",
      "\r\n",
      "\u001B[1m[\u001B[0m\u001B[34;49mnotice\u001B[0m\u001B[1;39;49m]\u001B[0m\u001B[39;49m A new release of pip is available: \u001B[0m\u001B[31;49m23.2.1\u001B[0m\u001B[39;49m -> \u001B[0m\u001B[32;49m25.1.1\u001B[0m\r\n",
      "\u001B[1m[\u001B[0m\u001B[34;49mnotice\u001B[0m\u001B[1;39;49m]\u001B[0m\u001B[39;49m To update, run: \u001B[0m\u001B[32;49mpip3.11 install --upgrade pip\u001B[0m\r\n",
      "Note: you may need to restart the kernel to use updated packages.\n",
      "Looking in indexes: https://pypi.tuna.tsinghua.edu.cn/simple/\r\n",
      "Collecting en-core-web-sm==3.8.0\r\n",
      "  Using cached https://github.com/explosion/spacy-models/releases/download/en_core_web_sm-3.8.0/en_core_web_sm-3.8.0-py3-none-any.whl (12.8 MB)\r\n",
      "\u001B[38;5;2m✔ Download and installation successful\u001B[0m\r\n",
      "You can now load the package via spacy.load('en_core_web_sm')\r\n"
     ]
    }
   ],
   "execution_count": 1
  },
  {
   "metadata": {
    "ExecuteTime": {
     "end_time": "2025-05-22T14:14:56.247568Z",
     "start_time": "2025-05-22T14:14:51.605103Z"
    }
   },
   "cell_type": "code",
   "source": [
    "from bertopic import BERTopic\n",
    "import spacy\n",
    "from spacy.cli import download"
   ],
   "id": "8b0aecc32f20a840",
   "outputs": [
    {
     "name": "stderr",
     "output_type": "stream",
     "text": [
      "/Library/Frameworks/Python.framework/Versions/3.11/lib/python3.11/site-packages/tqdm/auto.py:21: TqdmWarning: IProgress not found. Please update jupyter and ipywidgets. See https://ipywidgets.readthedocs.io/en/stable/user_install.html\n",
      "  from .autonotebook import tqdm as notebook_tqdm\n"
     ]
    }
   ],
   "execution_count": 2
  },
  {
   "metadata": {
    "ExecuteTime": {
     "end_time": "2025-05-22T14:14:58.950713Z",
     "start_time": "2025-05-22T14:14:56.323153Z"
    }
   },
   "cell_type": "code",
   "source": [
    "download(\"en_core_web_sm\")\n",
    "nlp = spacy.load(\"en_core_web_sm\")\n",
    "print(\"spaCy model loaded successfully!\")"
   ],
   "id": "aa69d43cb7d1b305",
   "outputs": [
    {
     "name": "stdout",
     "output_type": "stream",
     "text": [
      "Looking in indexes: https://pypi.tuna.tsinghua.edu.cn/simple/\n",
      "Collecting en-core-web-sm==3.8.0\n",
      "  Downloading https://github.com/explosion/spacy-models/releases/download/en_core_web_sm-3.8.0/en_core_web_sm-3.8.0-py3-none-any.whl (12.8 MB)\n",
      "\u001B[2K     \u001B[90m━━━━━━━━━━━━━━━━━━━━━━━━━━━━━━━━━━━━━━━━\u001B[0m \u001B[32m12.8/12.8 MB\u001B[0m \u001B[31m45.8 MB/s\u001B[0m eta \u001B[36m0:00:00\u001B[0m00:01\u001B[0m00:01\u001B[0m\n",
      "\u001B[?25hInstalling collected packages: en-core-web-sm\n",
      "Successfully installed en-core-web-sm-3.8.0\n",
      "\u001B[38;5;2m✔ Download and installation successful\u001B[0m\n",
      "You can now load the package via spacy.load('en_core_web_sm')\n",
      "\u001B[38;5;3m⚠ Restart to reload dependencies\u001B[0m\n",
      "If you are in a Jupyter or Colab notebook, you may need to restart Python in\n",
      "order to load all the package's dependencies. You can do this by selecting the\n",
      "'Restart kernel' or 'Restart runtime' option.\n"
     ]
    },
    {
     "name": "stderr",
     "output_type": "stream",
     "text": [
      "\n",
      "\u001B[1m[\u001B[0m\u001B[34;49mnotice\u001B[0m\u001B[1;39;49m]\u001B[0m\u001B[39;49m A new release of pip is available: \u001B[0m\u001B[31;49m23.2.1\u001B[0m\u001B[39;49m -> \u001B[0m\u001B[32;49m25.1.1\u001B[0m\n",
      "\u001B[1m[\u001B[0m\u001B[34;49mnotice\u001B[0m\u001B[1;39;49m]\u001B[0m\u001B[39;49m To update, run: \u001B[0m\u001B[32;49mpip3.11 install --upgrade pip\u001B[0m\n"
     ]
    },
    {
     "name": "stdout",
     "output_type": "stream",
     "text": [
      "spaCy model loaded successfully!\n"
     ]
    }
   ],
   "execution_count": 3
  },
  {
   "metadata": {},
   "cell_type": "markdown",
   "source": "## Loading the Transcript Data",
   "id": "c8ceedffd4c9c205"
  },
  {
   "metadata": {
    "ExecuteTime": {
     "end_time": "2025-05-22T14:15:17.635610Z",
     "start_time": "2025-05-22T14:15:17.438002Z"
    }
   },
   "cell_type": "code",
   "source": [
    "# Load the transcript data\n",
    "with open(\"../../data_preprocessed/transcript_cleaned.txt\", \"r\", encoding=\"utf-8\") as f:\n",
    "    text_data = f.read()\n",
    "\n",
    "# Use spaCy to split into sentences\n",
    "doc = nlp(text_data)\n",
    "documents = [sent.text.strip() for sent in doc.sents if sent.text.strip()]\n",
    "\n",
    "print(f\"Prepared {len(documents)} sentence-level documents for BERTopic.\")"
   ],
   "id": "26d36198a16da0bc",
   "outputs": [
    {
     "name": "stdout",
     "output_type": "stream",
     "text": [
      "Prepared 1 sentence-level documents for BERTopic.\n"
     ]
    }
   ],
   "execution_count": 4
  },
  {
   "metadata": {},
   "cell_type": "markdown",
   "source": "## Initialize and run BERTopic Model",
   "id": "dc5258904e8ec25e"
  },
  {
   "metadata": {
    "ExecuteTime": {
     "end_time": "2025-05-22T14:15:38.823491Z",
     "start_time": "2025-05-22T14:15:24.823337Z"
    }
   },
   "cell_type": "code",
   "source": [
    "topic_model = BERTopic()\n",
    "topics, probs = topic_model.fit_transform(documents)"
   ],
   "id": "1e72fc28687849ba",
   "outputs": [
    {
     "name": "stderr",
     "output_type": "stream",
     "text": [
      "OMP: Info #276: omp_set_nested routine deprecated, please use omp_set_max_active_levels instead.\n"
     ]
    },
    {
     "ename": "ValueError",
     "evalue": "Transform unavailable when model was fit with only a single data sample.",
     "output_type": "error",
     "traceback": [
      "\u001B[0;31m---------------------------------------------------------------------------\u001B[0m",
      "\u001B[0;31mValueError\u001B[0m                                Traceback (most recent call last)",
      "Cell \u001B[0;32mIn[5], line 2\u001B[0m\n\u001B[1;32m      1\u001B[0m topic_model \u001B[38;5;241m=\u001B[39m BERTopic()\n\u001B[0;32m----> 2\u001B[0m topics, probs \u001B[38;5;241m=\u001B[39m \u001B[43mtopic_model\u001B[49m\u001B[38;5;241;43m.\u001B[39;49m\u001B[43mfit_transform\u001B[49m\u001B[43m(\u001B[49m\u001B[43mdocuments\u001B[49m\u001B[43m)\u001B[49m\n",
      "File \u001B[0;32m/Library/Frameworks/Python.framework/Versions/3.11/lib/python3.11/site-packages/bertopic/_bertopic.py:472\u001B[0m, in \u001B[0;36mBERTopic.fit_transform\u001B[0;34m(self, documents, embeddings, images, y)\u001B[0m\n\u001B[1;32m    469\u001B[0m     y, embeddings \u001B[38;5;241m=\u001B[39m \u001B[38;5;28mself\u001B[39m\u001B[38;5;241m.\u001B[39m_guided_topic_modeling(embeddings)\n\u001B[1;32m    471\u001B[0m \u001B[38;5;66;03m# Reduce dimensionality and fit UMAP model\u001B[39;00m\n\u001B[0;32m--> 472\u001B[0m umap_embeddings \u001B[38;5;241m=\u001B[39m \u001B[38;5;28;43mself\u001B[39;49m\u001B[38;5;241;43m.\u001B[39;49m\u001B[43m_reduce_dimensionality\u001B[49m\u001B[43m(\u001B[49m\u001B[43membeddings\u001B[49m\u001B[43m,\u001B[49m\u001B[43m \u001B[49m\u001B[43my\u001B[49m\u001B[43m)\u001B[49m\n\u001B[1;32m    474\u001B[0m \u001B[38;5;66;03m# Zero-shot Topic Modeling\u001B[39;00m\n\u001B[1;32m    475\u001B[0m \u001B[38;5;28;01mif\u001B[39;00m \u001B[38;5;28mself\u001B[39m\u001B[38;5;241m.\u001B[39m_is_zeroshot():\n",
      "File \u001B[0;32m/Library/Frameworks/Python.framework/Versions/3.11/lib/python3.11/site-packages/bertopic/_bertopic.py:3780\u001B[0m, in \u001B[0;36mBERTopic._reduce_dimensionality\u001B[0;34m(self, embeddings, y, partial_fit)\u001B[0m\n\u001B[1;32m   3777\u001B[0m     \u001B[38;5;28;01mexcept\u001B[39;00m \u001B[38;5;167;01mTypeError\u001B[39;00m:\n\u001B[1;32m   3778\u001B[0m         \u001B[38;5;28mself\u001B[39m\u001B[38;5;241m.\u001B[39mumap_model\u001B[38;5;241m.\u001B[39mfit(embeddings)\n\u001B[0;32m-> 3780\u001B[0m umap_embeddings \u001B[38;5;241m=\u001B[39m \u001B[38;5;28;43mself\u001B[39;49m\u001B[38;5;241;43m.\u001B[39;49m\u001B[43mumap_model\u001B[49m\u001B[38;5;241;43m.\u001B[39;49m\u001B[43mtransform\u001B[49m\u001B[43m(\u001B[49m\u001B[43membeddings\u001B[49m\u001B[43m)\u001B[49m\n\u001B[1;32m   3781\u001B[0m logger\u001B[38;5;241m.\u001B[39minfo(\u001B[38;5;124m\"\u001B[39m\u001B[38;5;124mDimensionality - Completed \u001B[39m\u001B[38;5;130;01m\\u2713\u001B[39;00m\u001B[38;5;124m\"\u001B[39m)\n\u001B[1;32m   3782\u001B[0m \u001B[38;5;28;01mreturn\u001B[39;00m np\u001B[38;5;241m.\u001B[39mnan_to_num(umap_embeddings)\n",
      "File \u001B[0;32m/Library/Frameworks/Python.framework/Versions/3.11/lib/python3.11/site-packages/umap/umap_.py:2965\u001B[0m, in \u001B[0;36mUMAP.transform\u001B[0;34m(self, X, force_all_finite)\u001B[0m\n\u001B[1;32m   2963\u001B[0m \u001B[38;5;66;03m# If we fit just a single instance then error\u001B[39;00m\n\u001B[1;32m   2964\u001B[0m \u001B[38;5;28;01mif\u001B[39;00m \u001B[38;5;28mself\u001B[39m\u001B[38;5;241m.\u001B[39m_raw_data\u001B[38;5;241m.\u001B[39mshape[\u001B[38;5;241m0\u001B[39m] \u001B[38;5;241m==\u001B[39m \u001B[38;5;241m1\u001B[39m:\n\u001B[0;32m-> 2965\u001B[0m     \u001B[38;5;28;01mraise\u001B[39;00m \u001B[38;5;167;01mValueError\u001B[39;00m(\n\u001B[1;32m   2966\u001B[0m         \u001B[38;5;124m\"\u001B[39m\u001B[38;5;124mTransform unavailable when model was fit with only a single data sample.\u001B[39m\u001B[38;5;124m\"\u001B[39m\n\u001B[1;32m   2967\u001B[0m     )\n\u001B[1;32m   2968\u001B[0m \u001B[38;5;66;03m# If we just have the original input then short circuit things\u001B[39;00m\n\u001B[1;32m   2969\u001B[0m \u001B[38;5;28;01mif\u001B[39;00m \u001B[38;5;28mself\u001B[39m\u001B[38;5;241m.\u001B[39mmetric \u001B[38;5;129;01min\u001B[39;00m (\u001B[38;5;124m\"\u001B[39m\u001B[38;5;124mbit_hamming\u001B[39m\u001B[38;5;124m\"\u001B[39m, \u001B[38;5;124m\"\u001B[39m\u001B[38;5;124mbit_jaccard\u001B[39m\u001B[38;5;124m\"\u001B[39m):\n",
      "\u001B[0;31mValueError\u001B[0m: Transform unavailable when model was fit with only a single data sample."
     ]
    }
   ],
   "execution_count": 5
  },
  {
   "metadata": {},
   "cell_type": "code",
   "source": [
    "# Retrieve and display the discovered topics\n",
    "topic_info = topic_model.get_topic_info()  # DataFrame with Topic ID, Count, and Name (top words)\n",
    "\n",
    "# Show the first 10 topics, including topic -1 if present)\n",
    "print(\"Topic summary:\")\n",
    "print(topic_info.head(10))\n",
    "\n",
    "print(\"\\nDetailed topic breakdown:\")\n",
    "for _, row in topic_info.iterrows():\n",
    "    # If outlier Topic, skip\n",
    "    if row.Topic == -1:\n",
    "        continue\n",
    "    topic_words = [word for word, _ in topic_model.get_topic(row.Topic)]\n",
    "    print(f\"Topic {row.Topic} (Count: {row.Count} docs) – Top words: {', '.join(topic_words[:10])}\")\n",
    "\n",
    "# Save the BERTopic model and the topic summary output\n",
    "topic_model.save(\"bertopic_model.pkl\", serialization=\"pickle\")\n",
    "topic_info.to_csv(\"topic_summary.csv\", index=False)\n",
    "print(\"\\nModel saved to 'bertopic_model.pkl' and topic summary saved to 'topic_summary.csv'.\")\n"
   ],
   "id": "e1c21c060bfb0864",
   "outputs": [],
   "execution_count": null
  }
 ],
 "metadata": {
  "kernelspec": {
   "display_name": "Python 3",
   "language": "python",
   "name": "python3"
  },
  "language_info": {
   "codemirror_mode": {
    "name": "ipython",
    "version": 2
   },
   "file_extension": ".py",
   "mimetype": "text/x-python",
   "name": "python",
   "nbconvert_exporter": "python",
   "pygments_lexer": "ipython2",
   "version": "2.7.6"
  }
 },
 "nbformat": 4,
 "nbformat_minor": 5
}
